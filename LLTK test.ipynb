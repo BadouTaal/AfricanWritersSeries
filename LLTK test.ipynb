{
 "cells": [
  {
   "cell_type": "code",
   "execution_count": 1,
   "metadata": {},
   "outputs": [
    {
     "name": "stdout",
     "output_type": "stream",
     "text": [
      "\u001b[33mWARNING: Skipping lltk as it is not installed.\u001b[0m\n"
     ]
    }
   ],
   "source": [
    "# did this already in terminal\n",
    "!pip uninstall lltk"
   ]
  },
  {
   "cell_type": "code",
   "execution_count": 2,
   "metadata": {},
   "outputs": [
    {
     "name": "stdout",
     "output_type": "stream",
     "text": [
      "Requirement already up-to-date: lltk-dh in /Users/tobywarner/opt/anaconda3/lib/python3.7/site-packages (0.5.13)\n",
      "Requirement already satisfied, skipping upgrade: wget in /Users/tobywarner/opt/anaconda3/lib/python3.7/site-packages (from lltk-dh) (3.2)\n",
      "Requirement already satisfied, skipping upgrade: nbformat in /Users/tobywarner/opt/anaconda3/lib/python3.7/site-packages (from lltk-dh) (4.4.0)\n",
      "Requirement already satisfied, skipping upgrade: nbimporter in /Users/tobywarner/opt/anaconda3/lib/python3.7/site-packages (from lltk-dh) (0.3.4)\n",
      "Requirement already satisfied, skipping upgrade: loguru in /Users/tobywarner/opt/anaconda3/lib/python3.7/site-packages (from lltk-dh) (0.5.3)\n",
      "Requirement already satisfied, skipping upgrade: networkx in /Users/tobywarner/opt/anaconda3/lib/python3.7/site-packages (from lltk-dh) (2.3)\n",
      "Requirement already satisfied, skipping upgrade: xlwt in /Users/tobywarner/opt/anaconda3/lib/python3.7/site-packages (from lltk-dh) (1.3.0)\n",
      "Requirement already satisfied, skipping upgrade: nltk in /Users/tobywarner/opt/anaconda3/lib/python3.7/site-packages (from lltk-dh) (3.4.5)\n",
      "Requirement already satisfied, skipping upgrade: pandas in /Users/tobywarner/opt/anaconda3/lib/python3.7/site-packages (from lltk-dh) (1.3.0)\n",
      "Requirement already satisfied, skipping upgrade: bs4 in /Users/tobywarner/opt/anaconda3/lib/python3.7/site-packages (from lltk-dh) (0.0.1)\n",
      "Requirement already satisfied, skipping upgrade: htrc-feature-reader in /Users/tobywarner/opt/anaconda3/lib/python3.7/site-packages (from lltk-dh) (2.0.7)\n",
      "Requirement already satisfied, skipping upgrade: sklearn in /Users/tobywarner/opt/anaconda3/lib/python3.7/site-packages (from lltk-dh) (0.0)\n",
      "Requirement already satisfied, skipping upgrade: numpy in /Users/tobywarner/opt/anaconda3/lib/python3.7/site-packages (from lltk-dh) (1.16.2)\n",
      "Requirement already satisfied, skipping upgrade: moviepy in /Users/tobywarner/opt/anaconda3/lib/python3.7/site-packages (from lltk-dh) (1.0.3)\n",
      "Requirement already satisfied, skipping upgrade: statsmodels in /Users/tobywarner/opt/anaconda3/lib/python3.7/site-packages (from lltk-dh) (0.10.1)\n",
      "Requirement already satisfied, skipping upgrade: xopen in /Users/tobywarner/opt/anaconda3/lib/python3.7/site-packages (from lltk-dh) (1.1.0)\n",
      "Requirement already satisfied, skipping upgrade: plotnine in /Users/tobywarner/opt/anaconda3/lib/python3.7/site-packages (from lltk-dh) (0.7.1)\n",
      "Requirement already satisfied, skipping upgrade: sacremoses in /Users/tobywarner/opt/anaconda3/lib/python3.7/site-packages (from lltk-dh) (0.0.45)\n",
      "Requirement already satisfied, skipping upgrade: internetarchive in /Users/tobywarner/opt/anaconda3/lib/python3.7/site-packages (from lltk-dh) (1.9.9)\n",
      "Requirement already satisfied, skipping upgrade: ujson in /Users/tobywarner/opt/anaconda3/lib/python3.7/site-packages (from lltk-dh) (1.35)\n",
      "Requirement already satisfied, skipping upgrade: bounter in /Users/tobywarner/opt/anaconda3/lib/python3.7/site-packages (from lltk-dh) (1.1.1)\n",
      "Requirement already satisfied, skipping upgrade: geopy in /Users/tobywarner/opt/anaconda3/lib/python3.7/site-packages (from lltk-dh) (2.1.0)\n",
      "Requirement already satisfied, skipping upgrade: yapmap in /Users/tobywarner/opt/anaconda3/lib/python3.7/site-packages (from lltk-dh) (0.0.6)\n",
      "Requirement already satisfied, skipping upgrade: xlrd in /Users/tobywarner/opt/anaconda3/lib/python3.7/site-packages (from lltk-dh) (1.2.0)\n",
      "Requirement already satisfied, skipping upgrade: lxml in /Users/tobywarner/opt/anaconda3/lib/python3.7/site-packages (from lltk-dh) (4.4.1)\n",
      "Requirement already satisfied, skipping upgrade: ipython-genutils in /Users/tobywarner/opt/anaconda3/lib/python3.7/site-packages (from nbformat->lltk-dh) (0.2.0)\n",
      "Requirement already satisfied, skipping upgrade: traitlets>=4.1 in /Users/tobywarner/opt/anaconda3/lib/python3.7/site-packages (from nbformat->lltk-dh) (4.3.3)\n",
      "Requirement already satisfied, skipping upgrade: jupyter-core in /Users/tobywarner/opt/anaconda3/lib/python3.7/site-packages (from nbformat->lltk-dh) (4.5.0)\n",
      "Requirement already satisfied, skipping upgrade: jsonschema!=2.5.0,>=2.4 in /Users/tobywarner/opt/anaconda3/lib/python3.7/site-packages (from nbformat->lltk-dh) (3.0.2)\n",
      "Requirement already satisfied, skipping upgrade: decorator>=4.3.0 in /Users/tobywarner/opt/anaconda3/lib/python3.7/site-packages (from networkx->lltk-dh) (4.4.0)\n",
      "Requirement already satisfied, skipping upgrade: six in /Users/tobywarner/opt/anaconda3/lib/python3.7/site-packages (from nltk->lltk-dh) (1.15.0)\n",
      "Requirement already satisfied, skipping upgrade: python-dateutil>=2.7.3 in /Users/tobywarner/opt/anaconda3/lib/python3.7/site-packages (from pandas->lltk-dh) (2.8.0)\n",
      "Requirement already satisfied, skipping upgrade: pytz>=2017.3 in /Users/tobywarner/opt/anaconda3/lib/python3.7/site-packages (from pandas->lltk-dh) (2019.3)\n",
      "Requirement already satisfied, skipping upgrade: beautifulsoup4 in /Users/tobywarner/opt/anaconda3/lib/python3.7/site-packages (from bs4->lltk-dh) (4.8.0)\n",
      "Requirement already satisfied, skipping upgrade: python-rapidjson in /Users/tobywarner/opt/anaconda3/lib/python3.7/site-packages (from htrc-feature-reader->lltk-dh) (1.0)\n",
      "Requirement already satisfied, skipping upgrade: pymarc in /Users/tobywarner/opt/anaconda3/lib/python3.7/site-packages (from htrc-feature-reader->lltk-dh) (4.0.0)\n",
      "Requirement already satisfied, skipping upgrade: requests in /Users/tobywarner/opt/anaconda3/lib/python3.7/site-packages (from htrc-feature-reader->lltk-dh) (2.22.0)\n",
      "Requirement already satisfied, skipping upgrade: scikit-learn in /Users/tobywarner/opt/anaconda3/lib/python3.7/site-packages (from sklearn->lltk-dh) (0.21.3)\n",
      "Requirement already satisfied, skipping upgrade: imageio<3.0,>=2.5; python_version >= \"3.4\" in /Users/tobywarner/opt/anaconda3/lib/python3.7/site-packages (from moviepy->lltk-dh) (2.6.0)\n",
      "Requirement already satisfied, skipping upgrade: tqdm<5.0,>=4.11.2 in /Users/tobywarner/opt/anaconda3/lib/python3.7/site-packages (from moviepy->lltk-dh) (4.48.2)\n",
      "Requirement already satisfied, skipping upgrade: imageio-ffmpeg>=0.2.0; python_version >= \"3.4\" in /Users/tobywarner/opt/anaconda3/lib/python3.7/site-packages (from moviepy->lltk-dh) (0.4.3)\n",
      "Requirement already satisfied, skipping upgrade: proglog<=1.0.0 in /Users/tobywarner/opt/anaconda3/lib/python3.7/site-packages (from moviepy->lltk-dh) (0.1.9)\n",
      "Requirement already satisfied, skipping upgrade: patsy>=0.4.0 in /Users/tobywarner/opt/anaconda3/lib/python3.7/site-packages (from statsmodels->lltk-dh) (0.5.1)\n",
      "Requirement already satisfied, skipping upgrade: scipy>=0.18 in /Users/tobywarner/opt/anaconda3/lib/python3.7/site-packages (from statsmodels->lltk-dh) (1.3.1)\n",
      "Requirement already satisfied, skipping upgrade: descartes>=1.1.0 in /Users/tobywarner/opt/anaconda3/lib/python3.7/site-packages (from plotnine->lltk-dh) (1.1.0)\n",
      "Requirement already satisfied, skipping upgrade: matplotlib>=3.1.1 in /Users/tobywarner/opt/anaconda3/lib/python3.7/site-packages (from plotnine->lltk-dh) (3.1.1)\n",
      "Requirement already satisfied, skipping upgrade: mizani>=0.7.1 in /Users/tobywarner/opt/anaconda3/lib/python3.7/site-packages (from plotnine->lltk-dh) (0.7.2)\n",
      "Requirement already satisfied, skipping upgrade: joblib in /Users/tobywarner/opt/anaconda3/lib/python3.7/site-packages (from sacremoses->lltk-dh) (0.13.2)\n",
      "Requirement already satisfied, skipping upgrade: click in /Users/tobywarner/opt/anaconda3/lib/python3.7/site-packages (from sacremoses->lltk-dh) (7.0)\n",
      "Requirement already satisfied, skipping upgrade: regex in /Users/tobywarner/opt/anaconda3/lib/python3.7/site-packages (from sacremoses->lltk-dh) (2021.4.4)\n",
      "Requirement already satisfied, skipping upgrade: backports.csv<1.07 in /Users/tobywarner/opt/anaconda3/lib/python3.7/site-packages (from internetarchive->lltk-dh) (1.0.7)\n",
      "Requirement already satisfied, skipping upgrade: schema>=0.4.0 in /Users/tobywarner/opt/anaconda3/lib/python3.7/site-packages (from internetarchive->lltk-dh) (0.7.4)\n",
      "Requirement already satisfied, skipping upgrade: jsonpatch>=0.4 in /Users/tobywarner/opt/anaconda3/lib/python3.7/site-packages (from internetarchive->lltk-dh) (1.32)\n",
      "Requirement already satisfied, skipping upgrade: docopt<0.7.0,>=0.6.0 in /Users/tobywarner/opt/anaconda3/lib/python3.7/site-packages (from internetarchive->lltk-dh) (0.6.2)\n",
      "Requirement already satisfied, skipping upgrade: geographiclib<2,>=1.49 in /Users/tobywarner/opt/anaconda3/lib/python3.7/site-packages (from geopy->lltk-dh) (1.50)\n",
      "Requirement already satisfied, skipping upgrade: attrs>=17.4.0 in /Users/tobywarner/opt/anaconda3/lib/python3.7/site-packages (from jsonschema!=2.5.0,>=2.4->nbformat->lltk-dh) (19.2.0)\n",
      "Requirement already satisfied, skipping upgrade: pyrsistent>=0.14.0 in /Users/tobywarner/opt/anaconda3/lib/python3.7/site-packages (from jsonschema!=2.5.0,>=2.4->nbformat->lltk-dh) (0.15.4)\n",
      "Requirement already satisfied, skipping upgrade: setuptools in /Users/tobywarner/opt/anaconda3/lib/python3.7/site-packages (from jsonschema!=2.5.0,>=2.4->nbformat->lltk-dh) (41.4.0)\n",
      "Requirement already satisfied, skipping upgrade: soupsieve>=1.2 in /Users/tobywarner/opt/anaconda3/lib/python3.7/site-packages (from beautifulsoup4->bs4->lltk-dh) (1.9.3)\n",
      "Requirement already satisfied, skipping upgrade: chardet<3.1.0,>=3.0.2 in /Users/tobywarner/opt/anaconda3/lib/python3.7/site-packages (from requests->htrc-feature-reader->lltk-dh) (3.0.4)\n",
      "Requirement already satisfied, skipping upgrade: certifi>=2017.4.17 in /Users/tobywarner/opt/anaconda3/lib/python3.7/site-packages (from requests->htrc-feature-reader->lltk-dh) (2019.9.11)\n",
      "Requirement already satisfied, skipping upgrade: idna<2.9,>=2.5 in /Users/tobywarner/opt/anaconda3/lib/python3.7/site-packages (from requests->htrc-feature-reader->lltk-dh) (2.8)\n",
      "Requirement already satisfied, skipping upgrade: urllib3!=1.25.0,!=1.25.1,<1.26,>=1.21.1 in /Users/tobywarner/opt/anaconda3/lib/python3.7/site-packages (from requests->htrc-feature-reader->lltk-dh) (1.24.2)\n",
      "Requirement already satisfied, skipping upgrade: pillow in /Users/tobywarner/opt/anaconda3/lib/python3.7/site-packages (from imageio<3.0,>=2.5; python_version >= \"3.4\"->moviepy->lltk-dh) (6.2.0)\n",
      "Requirement already satisfied, skipping upgrade: cycler>=0.10 in /Users/tobywarner/opt/anaconda3/lib/python3.7/site-packages (from matplotlib>=3.1.1->plotnine->lltk-dh) (0.10.0)\n",
      "Requirement already satisfied, skipping upgrade: kiwisolver>=1.0.1 in /Users/tobywarner/opt/anaconda3/lib/python3.7/site-packages (from matplotlib>=3.1.1->plotnine->lltk-dh) (1.1.0)\n",
      "Requirement already satisfied, skipping upgrade: pyparsing!=2.0.4,!=2.1.2,!=2.1.6,>=2.0.1 in /Users/tobywarner/opt/anaconda3/lib/python3.7/site-packages (from matplotlib>=3.1.1->plotnine->lltk-dh) (2.4.2)\n",
      "Requirement already satisfied, skipping upgrade: palettable in /Users/tobywarner/opt/anaconda3/lib/python3.7/site-packages (from mizani>=0.7.1->plotnine->lltk-dh) (3.3.0)\n",
      "Requirement already satisfied, skipping upgrade: contextlib2>=0.5.5 in /Users/tobywarner/opt/anaconda3/lib/python3.7/site-packages (from schema>=0.4.0->internetarchive->lltk-dh) (0.6.0)\n",
      "Requirement already satisfied, skipping upgrade: jsonpointer>=1.9 in /Users/tobywarner/opt/anaconda3/lib/python3.7/site-packages (from jsonpatch>=0.4->internetarchive->lltk-dh) (2.1)\n"
     ]
    }
   ],
   "source": [
    "!pip install lltk-dh -U"
   ]
  },
  {
   "cell_type": "code",
   "execution_count": 5,
   "metadata": {},
   "outputs": [
    {
     "name": "stdout",
     "output_type": "stream",
     "text": [
      "Collecting numpy\n",
      "\u001b[?25l  Downloading https://files.pythonhosted.org/packages/49/d2/057683bbe4f8cccbd74f9b98dee5b1c5b94c06c115790d4bb50ec31aab77/numpy-1.21.1-cp37-cp37m-macosx_10_9_x86_64.whl (16.9MB)\n",
      "\u001b[K     |████████████████████████████████| 16.9MB 17.4MB/s eta 0:00:01\n",
      "\u001b[31mERROR: topicexplorer 1.0b226 has requirement numpy<1.16.4,>=1.11.3, but you'll have numpy 1.21.1 which is incompatible.\u001b[0m\n",
      "\u001b[31mERROR: plotnine 0.7.1 has requirement statsmodels>=0.11.1, but you'll have statsmodels 0.10.1 which is incompatible.\u001b[0m\n",
      "\u001b[31mERROR: htrc 0.1.55 has requirement numpy==1.16.2, but you'll have numpy 1.21.1 which is incompatible.\u001b[0m\n",
      "\u001b[?25hInstalling collected packages: numpy\n",
      "  Found existing installation: numpy 1.16.2\n",
      "    Uninstalling numpy-1.16.2:\n",
      "      Successfully uninstalled numpy-1.16.2\n",
      "Successfully installed numpy-1.21.1\n"
     ]
    }
   ],
   "source": [
    "!pip install numpy --upgrade"
   ]
  },
  {
   "cell_type": "code",
   "execution_count": 8,
   "metadata": {},
   "outputs": [
    {
     "ename": "ImportError",
     "evalue": "this version of pandas is incompatible with numpy < 1.17.3\nyour numpy version is 1.16.2.\nPlease upgrade numpy to >= 1.17.3 to use this pandas version",
     "output_type": "error",
     "traceback": [
      "\u001b[0;31m---------------------------------------------------------------------------\u001b[0m",
      "\u001b[0;31mImportError\u001b[0m                               Traceback (most recent call last)",
      "\u001b[0;32m<ipython-input-8-1fbf6195f3b8>\u001b[0m in \u001b[0;36m<module>\u001b[0;34m\u001b[0m\n\u001b[0;32m----> 1\u001b[0;31m \u001b[0;32mimport\u001b[0m \u001b[0mlltk\u001b[0m\u001b[0;34m\u001b[0m\u001b[0;34m\u001b[0m\u001b[0m\n\u001b[0m",
      "\u001b[0;32m~/opt/anaconda3/lib/python3.7/site-packages/lltk/__init__.py\u001b[0m in \u001b[0;36m<module>\u001b[0;34m\u001b[0m\n\u001b[1;32m      1\u001b[0m \u001b[0;32mimport\u001b[0m \u001b[0mos\u001b[0m\u001b[0;34m,\u001b[0m \u001b[0msys\u001b[0m\u001b[0;34m;\u001b[0m \u001b[0msys\u001b[0m\u001b[0;34m.\u001b[0m\u001b[0mpath\u001b[0m\u001b[0;34m.\u001b[0m\u001b[0mappend\u001b[0m\u001b[0;34m(\u001b[0m\u001b[0mos\u001b[0m\u001b[0;34m.\u001b[0m\u001b[0mpath\u001b[0m\u001b[0;34m.\u001b[0m\u001b[0mdirname\u001b[0m\u001b[0;34m(\u001b[0m\u001b[0mos\u001b[0m\u001b[0;34m.\u001b[0m\u001b[0mpath\u001b[0m\u001b[0;34m.\u001b[0m\u001b[0mrealpath\u001b[0m\u001b[0;34m(\u001b[0m\u001b[0m__file__\u001b[0m\u001b[0;34m)\u001b[0m\u001b[0;34m)\u001b[0m\u001b[0;34m)\u001b[0m\u001b[0;34m\u001b[0m\u001b[0;34m\u001b[0m\u001b[0m\n\u001b[0;32m----> 2\u001b[0;31m \u001b[0;32mfrom\u001b[0m \u001b[0;34m.\u001b[0m\u001b[0mlltk\u001b[0m \u001b[0;32mimport\u001b[0m \u001b[0;34m*\u001b[0m\u001b[0;34m\u001b[0m\u001b[0;34m\u001b[0m\u001b[0m\n\u001b[0m",
      "\u001b[0;32m~/opt/anaconda3/lib/python3.7/site-packages/lltk/lltk.py\u001b[0m in \u001b[0;36m<module>\u001b[0;34m\u001b[0m\n\u001b[1;32m      2\u001b[0m \u001b[0mv1\u001b[0m\u001b[0;36m.2\u001b[0m \u001b[0mLLTK\u001b[0m\u001b[0;34m\u001b[0m\u001b[0;34m\u001b[0m\u001b[0m\n\u001b[1;32m      3\u001b[0m \"\"\"\n\u001b[0;32m----> 4\u001b[0;31m \u001b[0;32mfrom\u001b[0m \u001b[0mlltk\u001b[0m\u001b[0;34m.\u001b[0m\u001b[0mimports\u001b[0m \u001b[0;32mimport\u001b[0m \u001b[0;34m*\u001b[0m\u001b[0;34m\u001b[0m\u001b[0;34m\u001b[0m\u001b[0m\n\u001b[0m\u001b[1;32m      5\u001b[0m \u001b[0;32mfrom\u001b[0m \u001b[0mlltk\u001b[0m\u001b[0;34m.\u001b[0m\u001b[0mtext\u001b[0m\u001b[0;34m.\u001b[0m\u001b[0mutils\u001b[0m \u001b[0;32mimport\u001b[0m \u001b[0;34m*\u001b[0m\u001b[0;34m\u001b[0m\u001b[0;34m\u001b[0m\u001b[0m\n\u001b[1;32m      6\u001b[0m \u001b[0;32mfrom\u001b[0m \u001b[0mlltk\u001b[0m\u001b[0;34m.\u001b[0m\u001b[0mcorpus\u001b[0m\u001b[0;34m.\u001b[0m\u001b[0mutils\u001b[0m \u001b[0;32mimport\u001b[0m \u001b[0;34m*\u001b[0m\u001b[0;34m\u001b[0m\u001b[0;34m\u001b[0m\u001b[0m\n",
      "\u001b[0;32m~/opt/anaconda3/lib/python3.7/site-packages/lltk/imports.py\u001b[0m in \u001b[0;36m<module>\u001b[0;34m\u001b[0m\n\u001b[1;32m     24\u001b[0m \u001b[0;32mimport\u001b[0m \u001b[0mimp\u001b[0m\u001b[0;34m\u001b[0m\u001b[0;34m\u001b[0m\u001b[0m\n\u001b[1;32m     25\u001b[0m \u001b[0;34m\u001b[0m\u001b[0m\n\u001b[0;32m---> 26\u001b[0;31m \u001b[0;32mimport\u001b[0m \u001b[0mos\u001b[0m\u001b[0;34m,\u001b[0m\u001b[0msys\u001b[0m\u001b[0;34m,\u001b[0m\u001b[0mujson\u001b[0m \u001b[0;32mas\u001b[0m \u001b[0mjson\u001b[0m\u001b[0;34m,\u001b[0m\u001b[0mpandas\u001b[0m \u001b[0;32mas\u001b[0m \u001b[0mpd\u001b[0m\u001b[0;34m,\u001b[0m\u001b[0mrandom\u001b[0m\u001b[0;34m,\u001b[0m\u001b[0mgzip\u001b[0m\u001b[0;34m,\u001b[0m\u001b[0mtime\u001b[0m\u001b[0;34m,\u001b[0m\u001b[0minspect\u001b[0m\u001b[0;34m\u001b[0m\u001b[0;34m\u001b[0m\u001b[0m\n\u001b[0m\u001b[1;32m     27\u001b[0m \u001b[0;32mimport\u001b[0m \u001b[0mre\u001b[0m\u001b[0;34m,\u001b[0m\u001b[0mconfigparser\u001b[0m\u001b[0;34m\u001b[0m\u001b[0;34m\u001b[0m\u001b[0m\n\u001b[1;32m     28\u001b[0m \u001b[0;32mfrom\u001b[0m \u001b[0mdatetime\u001b[0m \u001b[0;32mimport\u001b[0m \u001b[0mdatetime\u001b[0m\u001b[0;34m\u001b[0m\u001b[0;34m\u001b[0m\u001b[0m\n",
      "\u001b[0;32m~/opt/anaconda3/lib/python3.7/site-packages/pandas/__init__.py\u001b[0m in \u001b[0;36m<module>\u001b[0;34m\u001b[0m\n\u001b[1;32m     20\u001b[0m \u001b[0;34m\u001b[0m\u001b[0m\n\u001b[1;32m     21\u001b[0m \u001b[0;31m# numpy compat\u001b[0m\u001b[0;34m\u001b[0m\u001b[0;34m\u001b[0m\u001b[0;34m\u001b[0m\u001b[0m\n\u001b[0;32m---> 22\u001b[0;31m from pandas.compat import (\n\u001b[0m\u001b[1;32m     23\u001b[0m     \u001b[0mnp_version_under1p18\u001b[0m \u001b[0;32mas\u001b[0m \u001b[0m_np_version_under1p18\u001b[0m\u001b[0;34m,\u001b[0m\u001b[0;34m\u001b[0m\u001b[0;34m\u001b[0m\u001b[0m\n\u001b[1;32m     24\u001b[0m     \u001b[0mis_numpy_dev\u001b[0m \u001b[0;32mas\u001b[0m \u001b[0m_is_numpy_dev\u001b[0m\u001b[0;34m,\u001b[0m\u001b[0;34m\u001b[0m\u001b[0;34m\u001b[0m\u001b[0m\n",
      "\u001b[0;32m~/opt/anaconda3/lib/python3.7/site-packages/pandas/compat/__init__.py\u001b[0m in \u001b[0;36m<module>\u001b[0;34m\u001b[0m\n\u001b[1;32m     13\u001b[0m \u001b[0;34m\u001b[0m\u001b[0m\n\u001b[1;32m     14\u001b[0m \u001b[0;32mfrom\u001b[0m \u001b[0mpandas\u001b[0m\u001b[0;34m.\u001b[0m\u001b[0m_typing\u001b[0m \u001b[0;32mimport\u001b[0m \u001b[0mF\u001b[0m\u001b[0;34m\u001b[0m\u001b[0;34m\u001b[0m\u001b[0m\n\u001b[0;32m---> 15\u001b[0;31m from pandas.compat.numpy import (\n\u001b[0m\u001b[1;32m     16\u001b[0m     \u001b[0mis_numpy_dev\u001b[0m\u001b[0;34m,\u001b[0m\u001b[0;34m\u001b[0m\u001b[0;34m\u001b[0m\u001b[0m\n\u001b[1;32m     17\u001b[0m     \u001b[0mnp_array_datetime64_compat\u001b[0m\u001b[0;34m,\u001b[0m\u001b[0;34m\u001b[0m\u001b[0;34m\u001b[0m\u001b[0m\n",
      "\u001b[0;32m~/opt/anaconda3/lib/python3.7/site-packages/pandas/compat/numpy/__init__.py\u001b[0m in \u001b[0;36m<module>\u001b[0;34m\u001b[0m\n\u001b[1;32m     19\u001b[0m \u001b[0;32mif\u001b[0m \u001b[0m_nlv\u001b[0m \u001b[0;34m<\u001b[0m \u001b[0mVersion\u001b[0m\u001b[0;34m(\u001b[0m\u001b[0m_min_numpy_ver\u001b[0m\u001b[0;34m)\u001b[0m\u001b[0;34m:\u001b[0m\u001b[0;34m\u001b[0m\u001b[0;34m\u001b[0m\u001b[0m\n\u001b[1;32m     20\u001b[0m     raise ImportError(\n\u001b[0;32m---> 21\u001b[0;31m         \u001b[0;34mf\"this version of pandas is incompatible with numpy < {_min_numpy_ver}\\n\"\u001b[0m\u001b[0;34m\u001b[0m\u001b[0;34m\u001b[0m\u001b[0m\n\u001b[0m\u001b[1;32m     22\u001b[0m         \u001b[0;34mf\"your numpy version is {_np_version}.\\n\"\u001b[0m\u001b[0;34m\u001b[0m\u001b[0;34m\u001b[0m\u001b[0m\n\u001b[1;32m     23\u001b[0m         \u001b[0;34mf\"Please upgrade numpy to >= {_min_numpy_ver} to use this pandas version\"\u001b[0m\u001b[0;34m\u001b[0m\u001b[0;34m\u001b[0m\u001b[0m\n",
      "\u001b[0;31mImportError\u001b[0m: this version of pandas is incompatible with numpy < 1.17.3\nyour numpy version is 1.16.2.\nPlease upgrade numpy to >= 1.17.3 to use this pandas version"
     ]
    }
   ],
   "source": [
    "import lltk"
   ]
  },
  {
   "cell_type": "code",
   "execution_count": null,
   "metadata": {},
   "outputs": [],
   "source": [
    "lltk.show()"
   ]
  },
  {
   "cell_type": "code",
   "execution_count": null,
   "metadata": {},
   "outputs": [],
   "source": [
    "corpus = lltk.load('TxtLab')"
   ]
  },
  {
   "cell_type": "code",
   "execution_count": null,
   "metadata": {},
   "outputs": [],
   "source": [
    "corpus.meta"
   ]
  },
  {
   "cell_type": "code",
   "execution_count": null,
   "metadata": {},
   "outputs": [],
   "source": [
    "corpus2 = lltk.load('Chicago')"
   ]
  },
  {
   "cell_type": "code",
   "execution_count": null,
   "metadata": {},
   "outputs": [],
   "source": [
    "corpus2.meta"
   ]
  },
  {
   "cell_type": "code",
   "execution_count": null,
   "metadata": {},
   "outputs": [],
   "source": [
    "corpus.mfw_df()"
   ]
  },
  {
   "cell_type": "code",
   "execution_count": null,
   "metadata": {},
   "outputs": [],
   "source": [
    "from aws import *"
   ]
  },
  {
   "cell_type": "code",
   "execution_count": null,
   "metadata": {},
   "outputs": [],
   "source": [
    "C = get_corpus()"
   ]
  },
  {
   "cell_type": "code",
   "execution_count": null,
   "metadata": {},
   "outputs": [],
   "source": [
    "C.meta"
   ]
  },
  {
   "cell_type": "code",
   "execution_count": null,
   "metadata": {},
   "outputs": [],
   "source": []
  }
 ],
 "metadata": {
  "kernelspec": {
   "display_name": "Python 3",
   "language": "python",
   "name": "python3"
  },
  "language_info": {
   "codemirror_mode": {
    "name": "ipython",
    "version": 3
   },
   "file_extension": ".py",
   "mimetype": "text/x-python",
   "name": "python",
   "nbconvert_exporter": "python",
   "pygments_lexer": "ipython3",
   "version": "3.7.4"
  }
 },
 "nbformat": 4,
 "nbformat_minor": 4
}
